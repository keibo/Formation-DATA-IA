{
 "cells": [
  {
   "cell_type": "code",
   "execution_count": 19,
   "metadata": {},
   "outputs": [
    {
     "name": "stdout",
     "output_type": "stream",
     "text": [
      "-9.797174393178826e-16\n",
      "1.0\n",
      "17\n"
     ]
    }
   ],
   "source": [
    "#Exercice 1\n",
    "\n",
    "import numpy as np\n",
    "import collections\n",
    "\n",
    "A = np.arange(0,100,3)\n",
    "   # [ i for i in range(0, 100) if i % 3 == 0 ]\n",
    "    \n",
    "B = np.sin((A**2)*(np.pi/2))\n",
    "print(b)\n",
    "\n",
    "C = np.amax(B)\n",
    "print(C)\n",
    "\n",
    "print(np.count_nonzero(B == 1))"
   ]
  },
  {
   "cell_type": "code",
   "execution_count": 33,
   "metadata": {},
   "outputs": [
    {
     "name": "stdout",
     "output_type": "stream",
     "text": [
      "True\n",
      "True\n",
      "[[1. 0. 0. 0. 0. 0. 0. 0. 0. 0.]\n",
      " [0. 1. 0. 0. 0. 0. 0. 0. 0. 0.]\n",
      " [0. 0. 1. 0. 0. 0. 0. 0. 0. 0.]\n",
      " [0. 0. 0. 1. 0. 0. 0. 0. 0. 0.]\n",
      " [0. 0. 0. 0. 1. 0. 0. 0. 0. 0.]\n",
      " [0. 0. 0. 0. 0. 1. 0. 0. 0. 0.]\n",
      " [0. 0. 0. 0. 0. 0. 1. 0. 0. 0.]\n",
      " [0. 0. 0. 0. 0. 0. 0. 1. 0. 0.]\n",
      " [0. 0. 0. 0. 0. 0. 0. 0. 1. 0.]\n",
      " [0. 0. 0. 0. 0. 0. 0. 0. 0. 1.]]\n"
     ]
    }
   ],
   "source": [
    "#Exercice 2\n",
    "M = np.eye(10)\n",
    "def est_diagonal(M):\n",
    "    return True if (M == np.triu(np.tril(M))).all() else False\n",
    "\n",
    "def est_triangulaire_sup(M):\n",
    "    return True if (M == np.tril(M)).all() else False\n",
    "\n",
    "print(est_diagonal(M))\n",
    "print(est_triangulaire_sup(M))\n",
    "print(M)"
   ]
  },
  {
   "cell_type": "code",
   "execution_count": 128,
   "metadata": {},
   "outputs": [
    {
     "data": {
      "text/plain": [
       "[[1, 0, 0, 0, 0, 0, 0, 1],\n",
       " [1, 0, 0, 0, 0, 0, 0, 1],\n",
       " [1, 0, 0, 0, 0, 0, 0, 1],\n",
       " [1, 0, 0, 0, 0, 0, 0, 1],\n",
       " [1, 0, 0, 0, 0, 0, 0, 1],\n",
       " [1, 0, 0, 0, 0, 0, 0, 1],\n",
       " [1, 0, 0, 0, 0, 0, 0, 1],\n",
       " [1, 1, 1, 1, 1, 1, 1, 1]]"
      ]
     },
     "execution_count": 128,
     "metadata": {},
     "output_type": "execute_result"
    }
   ],
   "source": [
    "#Exercice 3\n",
    "import numpy as np\n",
    "\n",
    "M = np.ones((8,8))\n",
    "M[0:-1, 1:-1] = 0\n",
    "\n",
    "\n",
    "N = []\n",
    "for x in range(0, 8):\n",
    "    N.append([0] * 8)\n",
    "    for y in range (0,8):\n",
    "        if x >= 7 or y == 0 or y == 7:\n",
    "            N[x][y] = 1    \n",
    "N"
   ]
  },
  {
   "cell_type": "code",
   "execution_count": 113,
   "metadata": {},
   "outputs": [
    {
     "name": "stdout",
     "output_type": "stream",
     "text": [
      "500000500000\n",
      "Temps d'execution = 0.192486\n",
      "500000500000\n",
      "Temps d'execution = 0.004025 \n",
      "\n",
      "Ma methode est donc plus lente\n"
     ]
    }
   ],
   "source": [
    "#Exercice 4\n",
    "import time\n",
    "import numpy as np\n",
    "\n",
    "a = 0\n",
    "b = 0\n",
    "tmps1=time.time()\n",
    "while a <= 1000000:\n",
    "    b = a + b\n",
    "    a = a+1\n",
    "    \n",
    "    \n",
    "tmps2=time.time()-tmps1\n",
    "print(b)\n",
    "print (\"Temps d'execution = %f\" %tmps2)\n",
    "\n",
    "\n",
    "tmps3=time.time()\n",
    "c = np.arange(1000001)\n",
    "d = c.sum(dtype=np.int64)\n",
    "print(d)\n",
    "tmps4=time.time()-tmps3\n",
    "print (\"Temps d'execution = %f \\n\\nMa methode est donc plus lente\" %tmps4)"
   ]
  },
  {
   "cell_type": "code",
   "execution_count": 3,
   "metadata": {},
   "outputs": [
    {
     "name": "stdout",
     "output_type": "stream",
     "text": [
      "0.7448487329763355\n"
     ]
    }
   ],
   "source": [
    "#Exercice 5\n",
    "import numpy as np\n",
    "A = np.random.rand(50,50)\n",
    "\n",
    "max = 0\n",
    "for i in range(49):\n",
    "    for j in range(49):\n",
    "        if max < A[j+1][i]-A[i][j]:\n",
    "            max = A[i][j]\n",
    "print(max)\n",
    "    "
   ]
  },
  {
   "cell_type": "code",
   "execution_count": 176,
   "metadata": {},
   "outputs": [
    {
     "name": "stdout",
     "output_type": "stream",
     "text": [
      "1232\n",
      "[[0 0 1 ... 1 1 0]\n",
      " [0 1 0 ... 0 1 1]\n",
      " [1 1 0 ... 1 0 0]\n",
      " ...\n",
      " [1 0 1 ... 1 0 1]\n",
      " [1 1 0 ... 1 1 1]\n",
      " [0 1 1 ... 0 1 0]]\n",
      "[[0 0 1 ... 1 1 0]\n",
      " [0 1 0 ... 0 1 1]\n",
      " [1 1 0 ... 1 0 0]\n",
      " ...\n",
      " [1 0 1 ... 1 0 1]\n",
      " [1 1 0 ... 1 1 1]\n",
      " [0 1 1 ... 0 1 0]]\n"
     ]
    }
   ],
   "source": [
    "#Exercice 6\n",
    "import numpy as np\n",
    "a = np.random.rand(50,50)\n",
    "\n",
    "count=np.count_nonzero(a<=0.5)\n",
    "print(count)\n",
    "\n",
    "result=(a>0.5).astype(int)\n",
    "print(result)\n",
    "\n",
    "result2=np.where(a<0.5,0,1)\n",
    "print(result2)"
   ]
  },
  {
   "cell_type": "code",
   "execution_count": 110,
   "metadata": {},
   "outputs": [
    {
     "name": "stdout",
     "output_type": "stream",
     "text": [
      "-4.0\n",
      "[-0.5  0.  -0.5  1. ]\n",
      "[0. 0. 1. 0.]\n"
     ]
    }
   ],
   "source": [
    "#Exercice 7\n",
    "import numpy as np\n",
    "\n",
    "a = np.array([[1,2,1,1],[0,1,2,1],[1,0,1,2],[2,1,0,1]])\n",
    "b = np.array([0,0,1,0])\n",
    "\n",
    "print(np.linalg.det(a))\n",
    "\n",
    "result=np.linalg.solve(a,b)\n",
    "print(result)\n",
    "\n",
    "result2=np.dot(a,result)\n",
    "print(result2)"
   ]
  },
  {
   "cell_type": "code",
   "execution_count": 109,
   "metadata": {},
   "outputs": [
    {
     "name": "stdout",
     "output_type": "stream",
     "text": [
      "Entrer votre texte \n",
      "ffffdddddffff\n",
      "Code : 4f5d4f\n",
      "Decode :ffffdddddffff\n"
     ]
    }
   ],
   "source": [
    "#Exercice 8\n",
    "\n",
    "def encode(input_string):\n",
    "    count = 1\n",
    "    tmp = ''\n",
    "    lst = ''\n",
    "    for character in input_string:\n",
    "        if character != tmp:\n",
    "            if tmp:\n",
    "                entry = str(count) + tmp \n",
    "                lst = lst + entry\n",
    "            count = 1\n",
    "            tmp = character\n",
    "        else:\n",
    "            count += 1\n",
    "    else:\n",
    "        try:\n",
    "            entry = str(count) + character \n",
    "            lst = lst + entry\n",
    "            return (lst, 0)\n",
    "        except Exception as e:\n",
    "            print(\"Tu t trom P 2 txt\".format(e=e)) \n",
    "            return (e, 1)\n",
    " \n",
    "\n",
    "def decode(lst):\n",
    "    result = ''\n",
    "    tmp = []\n",
    "    for i in range (0, int(len(lst)/2)):\n",
    "        tmp.append(lst[2*i:2*i+2])\n",
    "        result = result + (int(tmp[i][0]) * (tmp[i][1]))\n",
    "    return result\n",
    "        \n",
    "        \n",
    "\n",
    "\n",
    "value = encode(str(input('Entrer votre texte \\n')))\n",
    "if value[1] == 0:\n",
    "    print('Code : ' + format(value[0]))  \n",
    "    print('Decode :' + decode(value[0]))"
   ]
  }
 ],
 "metadata": {
  "kernelspec": {
   "display_name": "Python 3",
   "language": "python",
   "name": "python3"
  },
  "language_info": {
   "codemirror_mode": {
    "name": "ipython",
    "version": 3
   },
   "file_extension": ".py",
   "mimetype": "text/x-python",
   "name": "python",
   "nbconvert_exporter": "python",
   "pygments_lexer": "ipython3",
   "version": "3.7.0"
  }
 },
 "nbformat": 4,
 "nbformat_minor": 2
}
